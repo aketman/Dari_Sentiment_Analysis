{
 "cells": [
  {
   "cell_type": "markdown",
   "metadata": {},
   "source": [
    "# Dari Sentiment Analysis "
   ]
  },
  {
   "cell_type": "markdown",
   "metadata": {},
   "source": [
    "Sentiment Analysis of Facebook Dataset "
   ]
  },
  {
   "cell_type": "markdown",
   "metadata": {},
   "source": [
    "## Loading Python Libraries "
   ]
  },
  {
   "cell_type": "code",
   "execution_count": 1,
   "metadata": {},
   "outputs": [],
   "source": [
    "import pandas as pd \n",
    "#used for read, write, and manipulate Data\n",
    "import numpy as np \n",
    "# used to scientific computing or different operation\n",
    "import re \n",
    "# used to match, find and replace sets of strings \n",
    "import matplotlib.pyplot as plt \n",
    "#is a python libaray, used to plot numaric Data to object oranted\n",
    "from string import punctuation \n",
    "# used to know punctuation from Dataset\n",
    "from sklearn.feature_extraction.text import TfidfVectorizer \n",
    "# type of vectorization Dataset, term frequency inverse-document frequency used to convert Dataset to numaric \n",
    "from sklearn.model_selection import train_test_split \n",
    "#is a function used to Split or partition Datasets to train set and test set.\n",
    "from sklearn.linear_model import LogisticRegression \n",
    "#is type of Supervised ML Algorithm, used to train Dataset\n",
    "from sklearn.model_selection import cross_val_score \n",
    "# it tells if my model is Overfit or underfit 'score'\n",
    "from sklearn.model_selection import cross_val_predict \n",
    "#it tells if my model is Overfit or underfit 'predict'\n",
    "from sklearn.metrics import confusion_matrix \n",
    "# it is a table, which which is use for describe the performance of a classifiction model \n",
    "from sklearn.metrics import precision_score, recall_score \n",
    "#used to calculated percision score and recall score\n",
    "from sklearn.ensemble import RandomForestClassifier   \n",
    "#is type of Supervised ML Algorithm, used to train Dataset\n",
    "from sklearn.linear_model import SGDClassifier  \n",
    "#it is a solver for discriminative learning of linear classifiers under convex loss functions such as (linear) Support Vector Machines \n",
    "%matplotlib inline  \n",
    "# used to plot in jupyter notebook"
   ]
  },
  {
   "cell_type": "code",
   "execution_count": 2,
   "metadata": {},
   "outputs": [],
   "source": [
    "from __future__ import unicode_literals\n",
    "from hazm import *     # used to pre-process the Datasets"
   ]
  },
  {
   "cell_type": "markdown",
   "metadata": {},
   "source": [
    "## Export dataset from file"
   ]
  },
  {
   "cell_type": "code",
   "execution_count": 3,
   "metadata": {},
   "outputs": [
    {
     "data": {
      "text/html": [
       "<div>\n",
       "<style scoped>\n",
       "    .dataframe tbody tr th:only-of-type {\n",
       "        vertical-align: middle;\n",
       "    }\n",
       "\n",
       "    .dataframe tbody tr th {\n",
       "        vertical-align: top;\n",
       "    }\n",
       "\n",
       "    .dataframe thead th {\n",
       "        text-align: right;\n",
       "    }\n",
       "</style>\n",
       "<table border=\"1\" class=\"dataframe\">\n",
       "  <thead>\n",
       "    <tr style=\"text-align: right;\">\n",
       "      <th></th>\n",
       "      <th>Comments</th>\n",
       "      <th>Label</th>\n",
       "    </tr>\n",
       "  </thead>\n",
       "  <tbody>\n",
       "    <tr>\n",
       "      <th>0</th>\n",
       "      <td>وظیفه شکر رخصت و فانتون هم عصر  ایند فیلینگ چهار پلاق افتر سپورت</td>\n",
       "      <td>1</td>\n",
       "    </tr>\n",
       "    <tr>\n",
       "      <th>1</th>\n",
       "      <td>امی لحظه خبر خوش رسید \\nکه دانشگاه رخصت است</td>\n",
       "      <td>1</td>\n",
       "    </tr>\n",
       "    <tr>\n",
       "      <th>2</th>\n",
       "      <td>به اولاد های ننم رسیدگی میکنم..</td>\n",
       "      <td>1</td>\n",
       "    </tr>\n",
       "    <tr>\n",
       "      <th>3</th>\n",
       "      <td>امی لحظه خبر خوش رسید \\nکه دانشگاه رخصت است</td>\n",
       "      <td>1</td>\n",
       "    </tr>\n",
       "    <tr>\n",
       "      <th>4</th>\n",
       "      <td>وظیفه رفتم</td>\n",
       "      <td>1</td>\n",
       "    </tr>\n",
       "  </tbody>\n",
       "</table>\n",
       "</div>"
      ],
      "text/plain": [
       "                                                              Comments  Label\n",
       "0  وظیفه شکر رخصت و فانتون هم عصر  ایند فیلینگ چهار پلاق افتر سپورت         1\n",
       "1                       امی لحظه خبر خوش رسید \\nکه دانشگاه رخصت است         1\n",
       "2                                    به اولاد های ننم رسیدگی میکنم..        1\n",
       "3                       امی لحظه خبر خوش رسید \\nکه دانشگاه رخصت است         1\n",
       "4                                                          وظیفه رفتم       1"
      ]
     },
     "execution_count": 3,
     "metadata": {},
     "output_type": "execute_result"
    }
   ],
   "source": [
    "pd.set_option('display.max_colwidth', 100)\n",
    "data = pd.read_csv(\"/Users/ak_etman/Desktop/a/Thesis/Thesis_Project_Datasets/Dari_Dataset.csv\" ,sep =\",\" )\n",
    "data.head()"
   ]
  },
  {
   "cell_type": "code",
   "execution_count": 4,
   "metadata": {},
   "outputs": [
    {
     "data": {
      "text/plain": [
       "2638"
      ]
     },
     "execution_count": 4,
     "metadata": {},
     "output_type": "execute_result"
    }
   ],
   "source": [
    "#lenght of csv file \n",
    "len(data)"
   ]
  },
  {
   "cell_type": "markdown",
   "metadata": {},
   "source": [
    "Shuffling Index of Dataset which can Predict and Fit Better"
   ]
  },
  {
   "cell_type": "code",
   "execution_count": 5,
   "metadata": {},
   "outputs": [
    {
     "data": {
      "text/html": [
       "<div>\n",
       "<style scoped>\n",
       "    .dataframe tbody tr th:only-of-type {\n",
       "        vertical-align: middle;\n",
       "    }\n",
       "\n",
       "    .dataframe tbody tr th {\n",
       "        vertical-align: top;\n",
       "    }\n",
       "\n",
       "    .dataframe thead th {\n",
       "        text-align: right;\n",
       "    }\n",
       "</style>\n",
       "<table border=\"1\" class=\"dataframe\">\n",
       "  <thead>\n",
       "    <tr style=\"text-align: right;\">\n",
       "      <th></th>\n",
       "      <th>Comments</th>\n",
       "      <th>Label</th>\n",
       "    </tr>\n",
       "  </thead>\n",
       "  <tbody>\n",
       "    <tr>\n",
       "      <th>1217</th>\n",
       "      <td>Rezwan Bagram اینی آدم اگر هور بهشتی ره هم ببینه ده قصیش نیست</td>\n",
       "      <td>1</td>\n",
       "    </tr>\n",
       "    <tr>\n",
       "      <th>2343</th>\n",
       "      <td>بره وی</td>\n",
       "      <td>0</td>\n",
       "    </tr>\n",
       "    <tr>\n",
       "      <th>326</th>\n",
       "      <td>بدون بوت و چپلي هاي بلند اينقه قدوگك هستن   \\n.\\n.\\n\\n#رشيدى</td>\n",
       "      <td>1</td>\n",
       "    </tr>\n",
       "    <tr>\n",
       "      <th>881</th>\n",
       "      <td>عالی</td>\n",
       "      <td>1</td>\n",
       "    </tr>\n",
       "    <tr>\n",
       "      <th>1464</th>\n",
       "      <td>روز زیر داکترهای ترک تحت تداوی بودیم کمپاین های انتخابات ریاست\\nجمهوری در بغلان بودصداکرد اوقوم...</td>\n",
       "      <td>0</td>\n",
       "    </tr>\n",
       "  </tbody>\n",
       "</table>\n",
       "</div>"
      ],
      "text/plain": [
       "                                                                                                 Comments  \\\n",
       "1217                                        Rezwan Bagram اینی آدم اگر هور بهشتی ره هم ببینه ده قصیش نیست   \n",
       "2343                                                                                             بره وی     \n",
       "326                                        بدون بوت و چپلي هاي بلند اينقه قدوگك هستن   \\n.\\n.\\n\\n#رشيدى     \n",
       "881                                                                                                  عالی   \n",
       "1464   روز زیر داکترهای ترک تحت تداوی بودیم کمپاین های انتخابات ریاست\\nجمهوری در بغلان بودصداکرد اوقوم...   \n",
       "\n",
       "      Label  \n",
       "1217      1  \n",
       "2343      0  \n",
       "326       1  \n",
       "881       1  \n",
       "1464      0  "
      ]
     },
     "execution_count": 5,
     "metadata": {},
     "output_type": "execute_result"
    }
   ],
   "source": [
    "np.random.seed(10)\n",
    "shuffle_index = np.random.permutation(len(data))\n",
    "data = data.loc[shuffle_index]\n",
    "data.head()"
   ]
  },
  {
   "cell_type": "markdown",
   "metadata": {},
   "source": [
    "## number of positive, nagitiave sentance and missing data"
   ]
  },
  {
   "cell_type": "code",
   "execution_count": 6,
   "metadata": {
    "scrolled": true
   },
   "outputs": [
    {
     "name": "stdout",
     "output_type": "stream",
     "text": [
      "nagative=  1227\n",
      "positive=  1411\n",
      "missing label=  0\n",
      "missing comment=  0\n"
     ]
    }
   ],
   "source": [
    "nagative = len(data[data[\"Label\"] == 0])\n",
    "positive = len(data[data[\"Label\"] == 1])\n",
    "missing =data [\"Label\"].isnull().sum()\n",
    "missing1 =data [\"Comments\"].isnull().sum()\n",
    "print(\"nagative= \", nagative)\n",
    "print(\"positive= \", positive)\n",
    "print(\"missing label= \", missing)\n",
    "print(\"missing comment= \", missing1)"
   ]
  },
  {
   "cell_type": "markdown",
   "metadata": {},
   "source": [
    "## Removing all digit and English words"
   ]
  },
  {
   "cell_type": "code",
   "execution_count": 7,
   "metadata": {},
   "outputs": [],
   "source": [
    "fixed_array=[]\n",
    "for x in range(len(data)):\n",
    "        text = re.sub('[1234567890ABCDEFGHIJKLMNOPQRSTUWXYZabcdefjhijklmnopqrstuvwxyz]', '', data.iloc[x, 0], flags = re.M)\n",
    "        fixed_array.append(text)\n"
   ]
  },
  {
   "cell_type": "markdown",
   "metadata": {},
   "source": [
    "Use Train Test Split to Train Dataset in case of 80% split for training Data and 20% split for testing the Dataset"
   ]
  },
  {
   "cell_type": "code",
   "execution_count": 8,
   "metadata": {},
   "outputs": [
    {
     "name": "stderr",
     "output_type": "stream",
     "text": [
      "/Users/ak_etman/anaconda3/lib/python3.7/site-packages/ipykernel_launcher.py:3: FutureWarning: Method .as_matrix will be removed in a future version. Use .values instead.\n",
      "  This is separate from the ipykernel package so we can avoid doing imports until\n"
     ]
    }
   ],
   "source": [
    "#classifiction and train dataset \n",
    "X = fixed_array\n",
    "y = data.iloc[:, 1].as_matrix()\n",
    "x_train, x_test, y_train, y_test = train_test_split(X, y, test_size = 0.2, random_state = 42)"
   ]
  },
  {
   "cell_type": "markdown",
   "metadata": {},
   "source": [
    "## preprocess"
   ]
  },
  {
   "cell_type": "code",
   "execution_count": 9,
   "metadata": {},
   "outputs": [],
   "source": [
    "class preprocess(object):\n",
    "\n",
    "    def remove_digit_english (x_train):\n",
    "        X_preprocessed = []\n",
    "        for x in range(len(x_train)):\n",
    "            text = re.sub('[1234567890ABCDEFGHIJKLMNOPQRSTUWXYZabcdefjhijklmnopqrstu]', '', X_train[x], flags = re.M )\n",
    "            X_preprocessed.append(text)\n",
    "            return X_preprocessed\n",
    "        \n",
    "    def remove_emoji(x_train):\n",
    "        #remove all emojis  \n",
    "        data[\"Comments\"]= data[\"Comments\"].str.replace('[^\\w\\s#@/:%.,_-]',\"\",flags=re.UNICODE)\n",
    "        return x_train\n",
    "\n",
    "    #remove all punctuations\n",
    "    def remove_punctuations(x_train):\n",
    "        return \"\".join(c for c in s if c not in punctuation)\n",
    "        punctuations(x_train)\n",
    "\n",
    "    def normalize_data(x_train):   \n",
    "        normaliz= []\n",
    "        for x in range(len(x_train)):\n",
    "            normalizer = Normalizer()\n",
    "            normalize = normalizer.normalize(fixed_array[x])\n",
    "            normaliz.append(normalize)\n",
    "            return normaliz\n",
    "            \n",
    "    def tokenize_data(normaliz):\n",
    "\n",
    "        #tokenize all dataset \n",
    "        token =[]\n",
    "        for x in range(len(normaliz)):\n",
    "            token1= sent_tokenize(normaliz[x])\n",
    "            token.append(token1)\n",
    "            return token\n",
    "        \n",
    "    def stemmers_data(token):\n",
    "        \n",
    "    #stemmer all words\n",
    "        stemmers=[]\n",
    "        for x in range(len(token)):\n",
    "            for y in range(len(token[x])):\n",
    "                stemmer= Stemmer()\n",
    "                stemmer1= stemmer.stem(token[x][y])\n",
    "                stemmers.append(stemmer1)\n",
    "                return stemmers"
   ]
  },
  {
   "cell_type": "code",
   "execution_count": 10,
   "metadata": {},
   "outputs": [],
   "source": [
    "X_preprocessed = []\n",
    "for x in range(len(x_train)):\n",
    "        text = re.sub('[1234567890ABCDEFGHIJKLMNOPQRSTUWXYZabcdefjhijklmnopqrstu]', '', x_train[x], flags = re.M )\n",
    "        X_preprocessed.append(text)"
   ]
  },
  {
   "cell_type": "markdown",
   "metadata": {},
   "source": [
    "## Vectorizing Dataset with TF-IDF Vectorizer  "
   ]
  },
  {
   "cell_type": "markdown",
   "metadata": {},
   "source": [
    "First can create an object of TF_IDF Vectorizer, then pass the preprocessed Data to fit it to method and change it to feature vectors and finally convert it to array.  "
   ]
  },
  {
   "cell_type": "code",
   "execution_count": 11,
   "metadata": {},
   "outputs": [
    {
     "data": {
      "text/plain": [
       "array([[0., 0., 0., ..., 0., 0., 0.],\n",
       "       [0., 0., 0., ..., 0., 0., 0.],\n",
       "       [0., 0., 0., ..., 0., 0., 0.],\n",
       "       ...,\n",
       "       [0., 0., 0., ..., 0., 0., 0.],\n",
       "       [0., 0., 0., ..., 0., 0., 0.],\n",
       "       [0., 0., 0., ..., 0., 0., 0.]])"
      ]
     },
     "execution_count": 11,
     "metadata": {},
     "output_type": "execute_result"
    }
   ],
   "source": [
    "tf = TfidfVectorizer()\n",
    "vectorized_commetns = tf.fit_transform(X_preprocessed)\n",
    "vectorized_commetns.toarray()"
   ]
  },
  {
   "cell_type": "markdown",
   "metadata": {},
   "source": [
    "# GridSearchCV"
   ]
  },
  {
   "cell_type": "markdown",
   "metadata": {},
   "source": [
    "GridSearchCV is acually used to combine an estamitor with a grid search preamble to tune hyperparameters, Train Dataset with SVM Model which has linear kernal, C=1, and thier Random State is equal zero."
   ]
  },
  {
   "cell_type": "code",
   "execution_count": 12,
   "metadata": {},
   "outputs": [],
   "source": [
    "from sklearn.svm import SVC \n",
    "c =SVC(random_state=0, kernel='linear', C=1 )"
   ]
  },
  {
   "cell_type": "markdown",
   "metadata": {},
   "source": [
    "In here c is object of SVM Model, it can fit the X_train and Y_train to SVM Model for feature works "
   ]
  },
  {
   "cell_type": "code",
   "execution_count": 13,
   "metadata": {},
   "outputs": [
    {
     "data": {
      "text/plain": [
       "SVC(C=1, cache_size=200, class_weight=None, coef0=0.0,\n",
       "    decision_function_shape='ovr', degree=3, gamma='auto_deprecated',\n",
       "    kernel='linear', max_iter=-1, probability=False, random_state=0,\n",
       "    shrinking=True, tol=0.001, verbose=False)"
      ]
     },
     "execution_count": 13,
     "metadata": {},
     "output_type": "execute_result"
    }
   ],
   "source": [
    "c.fit(vectorized_commetns,y_train)"
   ]
  },
  {
   "cell_type": "markdown",
   "metadata": {},
   "source": [
    "Predict is a method which shows can ML Model know classification of Dataset(true, false)"
   ]
  },
  {
   "cell_type": "code",
   "execution_count": 14,
   "metadata": {},
   "outputs": [
    {
     "data": {
      "text/plain": [
       "array([0, 0, 0, ..., 0, 1, 1])"
      ]
     },
     "execution_count": 14,
     "metadata": {},
     "output_type": "execute_result"
    }
   ],
   "source": [
    "y_pred =c.predict(vectorized_commetns)\n",
    "y_pred"
   ]
  },
  {
   "cell_type": "markdown",
   "metadata": {},
   "source": [
    "Testing sample of Dataset"
   ]
  },
  {
   "cell_type": "code",
   "execution_count": 15,
   "metadata": {},
   "outputs": [],
   "source": [
    "x3 = ['جمله مقبول است  ']\n",
    "a = tf.transform(x3).toarray()\n",
    "result = c.predict(a)"
   ]
  },
  {
   "cell_type": "code",
   "execution_count": 16,
   "metadata": {},
   "outputs": [
    {
     "name": "stdout",
     "output_type": "stream",
     "text": [
      "😁جمله شما مثبت است\n"
     ]
    }
   ],
   "source": [
    "if result[0] > 0:\n",
    "    print(\"😁جمله شما مثبت است\")\n",
    "else: \n",
    "    print(\"😕 جمله شما منفی است\")"
   ]
  },
  {
   "cell_type": "markdown",
   "metadata": {},
   "source": [
    "Confustion matrix is a table which is use for describe the performance of a classifiction model on a set of test data for which the true values are known.\n",
    "it allows the visualization of the performance of an algorithm."
   ]
  },
  {
   "cell_type": "code",
   "execution_count": 17,
   "metadata": {},
   "outputs": [
    {
     "data": {
      "text/plain": [
       "array([[ 962,   18],\n",
       "       [  46, 1084]])"
      ]
     },
     "execution_count": 17,
     "metadata": {},
     "output_type": "execute_result"
    }
   ],
   "source": [
    "from sklearn.metrics import confusion_matrix\n",
    "cm = confusion_matrix(y_train, y_pred)\n",
    "cm"
   ]
  },
  {
   "cell_type": "markdown",
   "metadata": {},
   "source": [
    "This method used for predic the Precission, Recall, and F1_Score  "
   ]
  },
  {
   "cell_type": "code",
   "execution_count": 18,
   "metadata": {},
   "outputs": [
    {
     "name": "stdout",
     "output_type": "stream",
     "text": [
      "Precission:  0.9836660617059891\n",
      "recall:  0.95929203539823\n",
      "F1 Score:  0.9713261648745519\n"
     ]
    }
   ],
   "source": [
    "def print_p_r_f1_score(confusion_matrix):\n",
    "    print(\"Precission: \",confusion_matrix[1][1]/(confusion_matrix[0][1] + confusion_matrix[1][1]))\n",
    "    print(\"recall: \", confusion_matrix[1][1]/(confusion_matrix[1][0] + confusion_matrix[1][1]))\n",
    "    print(\"F1 Score: \", 2* ((confusion_matrix[1][1]/(confusion_matrix[1][1] + confusion_matrix[1][0])*(confusion_matrix[1][1]/(confusion_matrix[0][1] + confusion_matrix[1][1]))))/ ((confusion_matrix[1][1]/(confusion_matrix[1][1] + confusion_matrix[1][0]))+(confusion_matrix[1][1]/(confusion_matrix[0][1] + confusion_matrix[1][1]))) )\n",
    "print_p_r_f1_score(cm)"
   ]
  },
  {
   "cell_type": "markdown",
   "metadata": {},
   "source": [
    "Shows Score of Dataset accuracy "
   ]
  },
  {
   "cell_type": "code",
   "execution_count": 19,
   "metadata": {},
   "outputs": [
    {
     "data": {
      "text/plain": [
       "0.9696682464454977"
      ]
     },
     "execution_count": 19,
     "metadata": {},
     "output_type": "execute_result"
    }
   ],
   "source": [
    "from sklearn.metrics import accuracy_score\n",
    "accurac = accuracy_score(y_train, y_pred)\n",
    "accurac"
   ]
  },
  {
   "cell_type": "markdown",
   "metadata": {},
   "source": [
    "# LogisticRegression"
   ]
  },
  {
   "cell_type": "markdown",
   "metadata": {},
   "source": [
    "LogisticRegression is type of supervised classifcation model, which is used to model the probability of a certain class or event existing such as pass/fail, positive/negative, and such prediction.\n",
    "First Step, create object of this Model, then fit the Dataset. "
   ]
  },
  {
   "cell_type": "code",
   "execution_count": 20,
   "metadata": {},
   "outputs": [
    {
     "name": "stderr",
     "output_type": "stream",
     "text": [
      "/Users/ak_etman/anaconda3/lib/python3.7/site-packages/sklearn/linear_model/logistic.py:432: FutureWarning: Default solver will be changed to 'lbfgs' in 0.22. Specify a solver to silence this warning.\n",
      "  FutureWarning)\n"
     ]
    },
    {
     "data": {
      "text/plain": [
       "LogisticRegression(C=1.0, class_weight=None, dual=False, fit_intercept=True,\n",
       "                   intercept_scaling=1, l1_ratio=None, max_iter=100,\n",
       "                   multi_class='warn', n_jobs=None, penalty='l2',\n",
       "                   random_state=None, solver='warn', tol=0.0001, verbose=0,\n",
       "                   warm_start=False)"
      ]
     },
     "execution_count": 20,
     "metadata": {},
     "output_type": "execute_result"
    }
   ],
   "source": [
    "log_clf = LogisticRegression()\n",
    "log_clf.fit(vectorized_commetns, y_train)"
   ]
  },
  {
   "cell_type": "code",
   "execution_count": 21,
   "metadata": {},
   "outputs": [],
   "source": [
    "x = ['زندگی کوتا است لبخند بزن']\n",
    "x1 = [' برای مشکلات امنیتی افغانستان راه حل موثری ارایه نشده است']  "
   ]
  },
  {
   "cell_type": "code",
   "execution_count": 22,
   "metadata": {},
   "outputs": [],
   "source": [
    "test = tf.transform(x1).toarray()\n",
    "result = log_clf.predict(test)"
   ]
  },
  {
   "cell_type": "code",
   "execution_count": 23,
   "metadata": {},
   "outputs": [
    {
     "name": "stdout",
     "output_type": "stream",
     "text": [
      "😕 جمله شما منفی است\n"
     ]
    }
   ],
   "source": [
    "if result[0] > 0:\n",
    "    print(\"😁جمله شما مثبت است\")\n",
    "else: \n",
    "    print(\"😕 جمله شما منفی است\")"
   ]
  },
  {
   "cell_type": "code",
   "execution_count": 24,
   "metadata": {},
   "outputs": [
    {
     "name": "stderr",
     "output_type": "stream",
     "text": [
      "/Users/ak_etman/anaconda3/lib/python3.7/site-packages/sklearn/linear_model/logistic.py:432: FutureWarning: Default solver will be changed to 'lbfgs' in 0.22. Specify a solver to silence this warning.\n",
      "  FutureWarning)\n"
     ]
    },
    {
     "data": {
      "text/plain": [
       "array([0.80965909, 0.74857955, 0.77065527])"
      ]
     },
     "execution_count": 24,
     "metadata": {},
     "output_type": "execute_result"
    }
   ],
   "source": [
    "cross_val_score(log_clf, vectorized_commetns, y_train, cv = 3)"
   ]
  },
  {
   "cell_type": "code",
   "execution_count": 25,
   "metadata": {},
   "outputs": [
    {
     "name": "stderr",
     "output_type": "stream",
     "text": [
      "/Users/ak_etman/anaconda3/lib/python3.7/site-packages/sklearn/linear_model/logistic.py:432: FutureWarning: Default solver will be changed to 'lbfgs' in 0.22. Specify a solver to silence this warning.\n",
      "  FutureWarning)\n"
     ]
    },
    {
     "data": {
      "text/plain": [
       "array([0, 1, 1, ..., 0, 1, 1])"
      ]
     },
     "execution_count": 25,
     "metadata": {},
     "output_type": "execute_result"
    }
   ],
   "source": [
    "t= cross_val_predict(log_clf, vectorized_commetns, y_train, cv = 3)\n",
    "t"
   ]
  },
  {
   "cell_type": "code",
   "execution_count": 26,
   "metadata": {},
   "outputs": [
    {
     "data": {
      "text/plain": [
       "array([[700, 280],\n",
       "       [192, 938]])"
      ]
     },
     "execution_count": 26,
     "metadata": {},
     "output_type": "execute_result"
    }
   ],
   "source": [
    "confusion= confusion_matrix(y_train, t)\n",
    "confusion"
   ]
  },
  {
   "cell_type": "code",
   "execution_count": 27,
   "metadata": {},
   "outputs": [
    {
     "name": "stdout",
     "output_type": "stream",
     "text": [
      "Precission:  0.7701149425287356\n",
      "recall:  0.8300884955752212\n",
      "F1 Score:  0.798977853492334\n"
     ]
    }
   ],
   "source": [
    "def print_p_r_f1_score(confusion_matrix):\n",
    "    print(\"Precission: \",confusion_matrix[1][1]/(confusion_matrix[1][1] + confusion_matrix[0][1]))\n",
    "    print(\"recall: \", confusion_matrix[1][1]/(confusion_matrix[1][1] + confusion_matrix[1][0]))\n",
    "    print(\"F1 Score: \", 2* ((confusion_matrix[1][1]/(confusion_matrix[1][1] + confusion_matrix[1][0])*(confusion_matrix[1][1]/(confusion_matrix[0][1] + confusion_matrix[1][1]))))/ ((confusion_matrix[1][1]/(confusion_matrix[1][1] + confusion_matrix[1][0]))+(confusion_matrix[1][1]/(confusion_matrix[0][1] + confusion_matrix[1][1]))) )\n",
    "print_p_r_f1_score(confusion)"
   ]
  },
  {
   "cell_type": "code",
   "execution_count": 28,
   "metadata": {},
   "outputs": [
    {
     "data": {
      "text/plain": [
       "0.776303317535545"
      ]
     },
     "execution_count": 28,
     "metadata": {},
     "output_type": "execute_result"
    }
   ],
   "source": [
    "from sklearn import metrics\n",
    "metrics.accuracy_score(y_train ,t)"
   ]
  },
  {
   "cell_type": "code",
   "execution_count": 29,
   "metadata": {},
   "outputs": [
    {
     "data": {
      "text/plain": [
       "0.9383886255924171"
      ]
     },
     "execution_count": 29,
     "metadata": {},
     "output_type": "execute_result"
    }
   ],
   "source": [
    "from sklearn.metrics import accuracy_score\n",
    "y_pred_linear =log_clf.predict(vectorized_commetns)\n",
    "\n",
    "accuracy_log_cls = accuracy_score(y_train, y_pred_linear)\n",
    "accuracy_log_cls"
   ]
  },
  {
   "cell_type": "markdown",
   "metadata": {},
   "source": [
    "# Random Forest "
   ]
  },
  {
   "cell_type": "markdown",
   "metadata": {},
   "source": [
    "Random Forest increases predictive power of the algorithm and also helps prevent overfitting. Random forest is the most simple and widely used algorithm. Used for both classification and regression. It is an ensemble of randomized decision tree.\n",
    "import Random Forest library, create an object, transform, and fit Dataset to ML Model."
   ]
  },
  {
   "cell_type": "code",
   "execution_count": 30,
   "metadata": {},
   "outputs": [
    {
     "data": {
      "text/plain": [
       "array([[0., 0., 0., ..., 0., 0., 0.],\n",
       "       [0., 0., 0., ..., 0., 0., 0.],\n",
       "       [0., 0., 0., ..., 0., 0., 0.],\n",
       "       ...,\n",
       "       [0., 0., 0., ..., 0., 0., 0.],\n",
       "       [0., 0., 0., ..., 0., 0., 0.],\n",
       "       [0., 0., 0., ..., 0., 0., 0.]])"
      ]
     },
     "execution_count": 30,
     "metadata": {},
     "output_type": "execute_result"
    }
   ],
   "source": [
    "rfor = RandomForestClassifier()\n",
    "rf = TfidfVectorizer()\n",
    "r = rf.fit_transform(X_preprocessed)\n",
    "r.toarray()"
   ]
  },
  {
   "cell_type": "code",
   "execution_count": 31,
   "metadata": {},
   "outputs": [
    {
     "name": "stderr",
     "output_type": "stream",
     "text": [
      "/Users/ak_etman/anaconda3/lib/python3.7/site-packages/sklearn/ensemble/forest.py:245: FutureWarning: The default value of n_estimators will change from 10 in version 0.20 to 100 in 0.22.\n",
      "  \"10 in version 0.20 to 100 in 0.22.\", FutureWarning)\n"
     ]
    },
    {
     "data": {
      "text/plain": [
       "RandomForestClassifier(bootstrap=True, class_weight=None, criterion='gini',\n",
       "                       max_depth=None, max_features='auto', max_leaf_nodes=None,\n",
       "                       min_impurity_decrease=0.0, min_impurity_split=None,\n",
       "                       min_samples_leaf=1, min_samples_split=2,\n",
       "                       min_weight_fraction_leaf=0.0, n_estimators=10,\n",
       "                       n_jobs=None, oob_score=False, random_state=None,\n",
       "                       verbose=0, warm_start=False)"
      ]
     },
     "execution_count": 31,
     "metadata": {},
     "output_type": "execute_result"
    }
   ],
   "source": [
    "rfor.fit(r,y_train)"
   ]
  },
  {
   "cell_type": "code",
   "execution_count": 32,
   "metadata": {},
   "outputs": [],
   "source": [
    "rn = ['مقبول  ']\n",
    "rn2 = ['شما با ده ها دستگاه تانک و نفربر و صدها فروند هلیکوپترهای پیشرفته آمدید به افغانستان و جنایتهایی را انجام دادیداز هیچ جنایتی فروگذار نکردید عروسی ها را به خاک و خون کشیدیدشما بعد از  تا  با  هزار سرباز چه غلطی کردیدامروز دارید پیش طالبان التماس میکنید برای گفتگو']\n"
   ]
  },
  {
   "cell_type": "code",
   "execution_count": 33,
   "metadata": {},
   "outputs": [],
   "source": [
    "test1 = rf.transform(rn2).toarray()"
   ]
  },
  {
   "cell_type": "code",
   "execution_count": 34,
   "metadata": {},
   "outputs": [],
   "source": [
    "result = rfor.predict(test1)"
   ]
  },
  {
   "cell_type": "code",
   "execution_count": 35,
   "metadata": {},
   "outputs": [
    {
     "name": "stdout",
     "output_type": "stream",
     "text": [
      "😕 جمله شما منفی است\n"
     ]
    }
   ],
   "source": [
    "if result[0] > 0:\n",
    "    print(\"😁جمله شما مثبت است\")\n",
    "else: \n",
    "    print(\"😕 جمله شما منفی است\")"
   ]
  },
  {
   "cell_type": "code",
   "execution_count": 36,
   "metadata": {},
   "outputs": [
    {
     "data": {
      "text/plain": [
       "array([0.75994318, 0.734375  , 0.72364672])"
      ]
     },
     "execution_count": 36,
     "metadata": {},
     "output_type": "execute_result"
    }
   ],
   "source": [
    "cross_val_score(rfor, r, y_train, cv = 3)\n"
   ]
  },
  {
   "cell_type": "code",
   "execution_count": 37,
   "metadata": {},
   "outputs": [
    {
     "data": {
      "text/plain": [
       "array([0, 0, 1, ..., 0, 1, 1])"
      ]
     },
     "execution_count": 37,
     "metadata": {},
     "output_type": "execute_result"
    }
   ],
   "source": [
    "F= cross_val_predict(rfor, r, y_train, cv = 3)\n",
    "F"
   ]
  },
  {
   "cell_type": "code",
   "execution_count": 38,
   "metadata": {},
   "outputs": [
    {
     "data": {
      "text/plain": [
       "array([[636, 193],\n",
       "       [344, 937]])"
      ]
     },
     "execution_count": 38,
     "metadata": {},
     "output_type": "execute_result"
    }
   ],
   "source": [
    "confusion_f =confusion_matrix(F, y_train)\n",
    "confusion_f"
   ]
  },
  {
   "cell_type": "code",
   "execution_count": 39,
   "metadata": {},
   "outputs": [
    {
     "name": "stdout",
     "output_type": "stream",
     "text": [
      "Precission:  0.7314597970335676\n",
      "recall:  0.8292035398230089\n",
      "F1 Score:  0.7772708419742846\n"
     ]
    }
   ],
   "source": [
    "def print_p_r_f1_score(confusion_matrix):\n",
    "    print(\"Precission: \",confusion_matrix[1][1]/(confusion_matrix[1][1] + confusion_matrix[1][0]))\n",
    "    print(\"recall: \", confusion_matrix[1][1]/(confusion_matrix[1][1] + confusion_matrix[0][1]))\n",
    "    print(\"F1 Score: \", 2* ((confusion_matrix[1][1]/(confusion_matrix[1][1] + confusion_matrix[1][0])*(confusion_matrix[1][1]/(confusion_matrix[0][1] + confusion_matrix[1][1]))))/ ((confusion_matrix[1][1]/(confusion_matrix[1][1] + confusion_matrix[1][0]))+(confusion_matrix[1][1]/(confusion_matrix[0][1] + confusion_matrix[1][1]))) )\n",
    "print_p_r_f1_score(confusion_f)"
   ]
  },
  {
   "cell_type": "code",
   "execution_count": 40,
   "metadata": {},
   "outputs": [
    {
     "data": {
      "text/plain": [
       "0.9881516587677726"
      ]
     },
     "execution_count": 40,
     "metadata": {},
     "output_type": "execute_result"
    }
   ],
   "source": [
    "from sklearn.metrics import accuracy_score\n",
    "y_pred_random_forest =rfor.predict(vectorized_commetns)\n",
    "accuracy_random = accuracy_score(y_train, y_pred_random_forest)\n",
    "accuracy_random"
   ]
  },
  {
   "cell_type": "markdown",
   "metadata": {},
   "source": [
    "# SGDClassifiation"
   ]
  },
  {
   "cell_type": "markdown",
   "metadata": {},
   "source": [
    "Stochastic Gradient Descent (sgd) is a solver. It is a simple and efficient approach for discriminative learning of linear classifiers under convex loss functions such as (linear) Support Vector Machines and Logistic Regression. The solver for weight optimization. In this case, we used SVM implemented by SGD Classifier. also the prediction,cross_val_score, cross_val_predict, confusion_matrix, print_p_r_f1_score, and accuracy work similar with other classifiction which I mentioned to Above Classifire.   "
   ]
  },
  {
   "cell_type": "code",
   "execution_count": 41,
   "metadata": {},
   "outputs": [
    {
     "data": {
      "text/plain": [
       "SGDClassifier(alpha=0.0001, average=False, class_weight=None,\n",
       "              early_stopping=False, epsilon=0.1, eta0=0.0, fit_intercept=True,\n",
       "              l1_ratio=0.15, learning_rate='optimal', loss='hinge',\n",
       "              max_iter=1000, n_iter_no_change=5, n_jobs=None, penalty='l2',\n",
       "              power_t=0.5, random_state=None, shuffle=True, tol=0.001,\n",
       "              validation_fraction=0.1, verbose=0, warm_start=False)"
      ]
     },
     "execution_count": 41,
     "metadata": {},
     "output_type": "execute_result"
    }
   ],
   "source": [
    "sgd =SGDClassifier()\n",
    "sgd.fit(vectorized_commetns, y_train)"
   ]
  },
  {
   "cell_type": "code",
   "execution_count": 42,
   "metadata": {},
   "outputs": [],
   "source": [
    "pr=sgd.predict"
   ]
  },
  {
   "cell_type": "code",
   "execution_count": 43,
   "metadata": {},
   "outputs": [
    {
     "data": {
      "text/plain": [
       "0.7954545454545454"
      ]
     },
     "execution_count": 43,
     "metadata": {},
     "output_type": "execute_result"
    }
   ],
   "source": [
    "a=cross_val_score(sgd, vectorized_commetns, y_train, cv = 3)\n",
    "a.max()"
   ]
  },
  {
   "cell_type": "code",
   "execution_count": 44,
   "metadata": {},
   "outputs": [
    {
     "name": "stderr",
     "output_type": "stream",
     "text": [
      "/Users/ak_etman/anaconda3/lib/python3.7/site-packages/sklearn/linear_model/logistic.py:432: FutureWarning: Default solver will be changed to 'lbfgs' in 0.22. Specify a solver to silence this warning.\n",
      "  FutureWarning)\n"
     ]
    },
    {
     "data": {
      "text/plain": [
       "array([0, 1, 1, ..., 0, 1, 1])"
      ]
     },
     "execution_count": 44,
     "metadata": {},
     "output_type": "execute_result"
    }
   ],
   "source": [
    "SGD1= cross_val_predict(log_clf, vectorized_commetns, y_train, cv = 3)\n",
    "SGD1"
   ]
  },
  {
   "cell_type": "code",
   "execution_count": 45,
   "metadata": {},
   "outputs": [
    {
     "data": {
      "text/plain": [
       "array([[700, 192],\n",
       "       [280, 938]])"
      ]
     },
     "execution_count": 45,
     "metadata": {},
     "output_type": "execute_result"
    }
   ],
   "source": [
    "confusion_sgd= confusion_matrix(SGD1 , y_train)\n",
    "confusion_sgd"
   ]
  },
  {
   "cell_type": "code",
   "execution_count": 46,
   "metadata": {
    "scrolled": true
   },
   "outputs": [
    {
     "name": "stdout",
     "output_type": "stream",
     "text": [
      "Precission:  0.7701149425287356\n",
      "recall:  0.8300884955752212\n",
      "F1 Score:  0.798977853492334\n"
     ]
    }
   ],
   "source": [
    "def print_p_r_f1_score(confusion_matrix):\n",
    "    print(\"Precission: \",confusion_matrix[1][1]/(confusion_matrix[1][1] + confusion_matrix[1][0]))\n",
    "    print(\"recall: \", confusion_matrix[1][1]/(confusion_matrix[1][1] + confusion_matrix[0][1]))\n",
    "    print(\"F1 Score: \", 2* ((confusion_matrix[1][1]/(confusion_matrix[1][1] + confusion_matrix[1][0])*(confusion_matrix[1][1]/(confusion_matrix[0][1] + confusion_matrix[1][1]))))/ ((confusion_matrix[1][1]/(confusion_matrix[1][1] + confusion_matrix[1][0]))+(confusion_matrix[1][1]/(confusion_matrix[0][1] + confusion_matrix[1][1]))) )\n",
    "print_p_r_f1_score(confusion_sgd)"
   ]
  },
  {
   "cell_type": "code",
   "execution_count": 47,
   "metadata": {},
   "outputs": [],
   "source": [
    "s = ['شادخت ']\n",
    "s1 = ['خشم خسته کننده']"
   ]
  },
  {
   "cell_type": "code",
   "execution_count": 48,
   "metadata": {},
   "outputs": [],
   "source": [
    "test2 = rf.transform(s).toarray()\n",
    "result2 = rfor.predict(test2)"
   ]
  },
  {
   "cell_type": "code",
   "execution_count": 49,
   "metadata": {},
   "outputs": [
    {
     "name": "stdout",
     "output_type": "stream",
     "text": [
      "😁جمله شما مثبت است\n"
     ]
    }
   ],
   "source": [
    "if result2[0] > 0:\n",
    "    print(\"😁جمله شما مثبت است\")\n",
    "else: \n",
    "    print(\"😕 جمله شما منفی است\")"
   ]
  },
  {
   "cell_type": "code",
   "execution_count": 50,
   "metadata": {},
   "outputs": [
    {
     "data": {
      "text/plain": [
       "0.9957345971563981"
      ]
     },
     "execution_count": 50,
     "metadata": {},
     "output_type": "execute_result"
    }
   ],
   "source": [
    "y_pred =sgd.predict(vectorized_commetns)\n",
    "from sklearn.metrics import accuracy_score\n",
    "accuracy = accuracy_score(y_train, y_pred)\n",
    "accuracy"
   ]
  },
  {
   "cell_type": "markdown",
   "metadata": {},
   "source": [
    "# Visualize the relationship between our features"
   ]
  },
  {
   "cell_type": "markdown",
   "metadata": {},
   "source": [
    "# ROC"
   ]
  },
  {
   "cell_type": "markdown",
   "metadata": {},
   "source": [
    "A useful tool when predicting the probability of a binary outcome is the Receiver Operating Characteristic curve, or ROC curve. It is a plot of the false positive rate (x-axis) versus the true positive rate (y-axis) for a number of different candidate threshold values between 0.0 and 1.0. In here we used SKLearn library to plot Dataset with Different Mchine Learning Models."
   ]
  },
  {
   "cell_type": "code",
   "execution_count": 51,
   "metadata": {},
   "outputs": [],
   "source": [
    "from sklearn.metrics import roc_curve"
   ]
  },
  {
   "cell_type": "code",
   "execution_count": 52,
   "metadata": {
    "scrolled": false
   },
   "outputs": [
    {
     "name": "stderr",
     "output_type": "stream",
     "text": [
      "/Users/ak_etman/anaconda3/lib/python3.7/site-packages/sklearn/linear_model/logistic.py:432: FutureWarning: Default solver will be changed to 'lbfgs' in 0.22. Specify a solver to silence this warning.\n",
      "  FutureWarning)\n"
     ]
    }
   ],
   "source": [
    "y_scores_c = cross_val_predict(c, vectorized_commetns, y_train, cv=3,method=\"decision_function\")\n",
    "\n",
    "\n",
    "y_scores = cross_val_predict(log_clf, vectorized_commetns, y_train, cv=3,method=\"decision_function\")\n",
    "y_scores_sgd =cross_val_predict(sgd, vectorized_commetns,y_train, cv=3,method=\"decision_function\" )\n",
    "y_probas_forest = cross_val_predict(rfor, r, y_train, cv=3, method=\"predict_proba\")\n",
    "y_scores_forest = y_probas_forest[: , 1] # score = proba of positive class"
   ]
  },
  {
   "cell_type": "code",
   "execution_count": 53,
   "metadata": {},
   "outputs": [],
   "source": [
    "if y_scores.ndim == 2:\n",
    "    y_scores = y_scores[:, 1] \n",
    "if y_scores_c.ndim == 2:\n",
    "    y_scores = y_scores_c[:, 1] \n",
    "if y_scores_sgd.ndim == 2:\n",
    "    y_scores_sgd = y_scores_sgd[:, 1]"
   ]
  },
  {
   "cell_type": "code",
   "execution_count": 54,
   "metadata": {},
   "outputs": [],
   "source": [
    "fpr, tpr, thresholds = roc_curve(y_train, y_scores)"
   ]
  },
  {
   "cell_type": "code",
   "execution_count": 55,
   "metadata": {},
   "outputs": [],
   "source": [
    "fpr_c, tpr_c, thresholds_c = roc_curve(y_train, y_scores_c)"
   ]
  },
  {
   "cell_type": "code",
   "execution_count": 56,
   "metadata": {},
   "outputs": [],
   "source": [
    "fpr_sgd, tpr_sgd, thresholds_sgd = roc_curve(y_train, y_scores_sgd)"
   ]
  },
  {
   "cell_type": "code",
   "execution_count": 57,
   "metadata": {},
   "outputs": [],
   "source": [
    "fpr_forest, tpr_forest, thresholds_forest = roc_curve(y_train,y_scores_forest)"
   ]
  },
  {
   "cell_type": "code",
   "execution_count": 58,
   "metadata": {},
   "outputs": [
    {
     "data": {
      "image/png": "[encoded data removed]",
      "text/plain": [
       "<Figure size 864x576 with 1 Axes>"
      ]
     },
     "metadata": {
      "needs_background": "light"
     },
     "output_type": "display_data"
    }
   ],
   "source": [
    "plt.figure(figsize=(12, 8))\n",
    "plt.plot(fpr, tpr, \"b:\", linewidth=4, label=\"LGR \")\n",
    "plt.plot(fpr, tpr, \"r-\", linewidth=2, label=\"LGR \")\n",
    "\n",
    "\n",
    "plt.plot(fpr_forest, tpr_forest,'y+-', label=\"Random Forest\")\n",
    "plt.plot(fpr_sgd, tpr_sgd, \"g--\", linewidth=2, label=\"SGD\")\n",
    "plt.legend(loc=\"lower right\", fontsize=16)\n",
    "plt.xlabel(\"FPR\", fontsize=16)\n",
    "plt.ylabel(\"TPR\", fontsize=16)\n",
    "#.axis([0, 1, 0, 1])\n",
    "plt.xlim([0 , 1])\n",
    "plt.ylim([0, 1])\n",
    "plt.grid(True)\n",
    "plt.show()"
   ]
  },
  {
   "cell_type": "code",
   "execution_count": 59,
   "metadata": {},
   "outputs": [
    {
     "name": "stdout",
     "output_type": "stream",
     "text": [
      "LGR:  0.8749832942026369\n",
      "SVM:  0.8724381433989525\n",
      "SGD: 0.865696225392812\n",
      "Random Forest: 0.8309183673469388\n"
     ]
    }
   ],
   "source": [
    "print('LGR: ',metrics.roc_auc_score(y_train,y_scores))\n",
    "print('SVM: ',metrics.roc_auc_score(y_train,y_scores_c))\n",
    "print('SGD:',metrics.roc_auc_score(y_train,y_scores_sgd))\n",
    "print('Random Forest:',metrics.roc_auc_score(y_train,y_scores_forest))"
   ]
  },
  {
   "cell_type": "markdown",
   "metadata": {},
   "source": [
    "# Precision_Recall_Curve"
   ]
  },
  {
   "cell_type": "markdown",
   "metadata": {},
   "source": [
    "Precision-recall curves are typically used in binary classification to study the output of a classifier. In order to extend the precision-recall curve and average precision to multi-class or multi-label classification, it is necessary to binarize the output."
   ]
  },
  {
   "cell_type": "code",
   "execution_count": 60,
   "metadata": {},
   "outputs": [],
   "source": [
    "from sklearn.metrics import precision_recall_curve"
   ]
  },
  {
   "cell_type": "code",
   "execution_count": 61,
   "metadata": {},
   "outputs": [],
   "source": [
    "precisions, recalls, thresholds = precision_recall_curve(y_train, y_scores)\n",
    "precisions_c, recalls_c, thresholds_c = precision_recall_curve(y_train, y_scores_c)\n",
    "precisions_sgd, recalls_sgd, thresholds_sgd = precision_recall_curve(y_train, y_scores_sgd)\n",
    "recalls_forest, precisions_forest, thresholds_forest = precision_recall_curve(y_train, y_scores_forest)\n"
   ]
  },
  {
   "cell_type": "code",
   "execution_count": 62,
   "metadata": {},
   "outputs": [
    {
     "data": {
      "image/png": "[encoded data removed]",
      "text/plain": [
       "<Figure size 864x576 with 1 Axes>"
      ]
     },
     "metadata": {
      "needs_background": "light"
     },
     "output_type": "display_data"
    }
   ],
   "source": [
    "# plot LGD, SGD, R_forest\n",
    "plt.figure(figsize=(12, 8))\n",
    "plt.plot(recalls, precisions, \"b--\", linewidth=2 ,label=\"LGR\")\n",
    "plt.plot(recalls_sgd, precisions_sgd,'r-' , linewidth=2, label=\"SGD\")\n",
    "plt.plot(recalls_sgd, precisions_sgd,'g:' , linewidth=3, label=\"SVM\")\n",
    "plt.plot(recalls_forest, precisions_forest,'y+-', linewidth=2, label=\"Random Forest\")\n",
    "plt.xlabel(\"Recall\", fontsize=16)\n",
    "plt.ylabel(\"Precision\", fontsize=16)\n",
    "plt.legend(loc=\"best\", fontsize=16)\n",
    "#plt.axis([1, 2, 1, 2])\n",
    "plt.xlim([0 ,  1])\n",
    "plt.ylim([0, 1])\n",
    "plt.grid(True)\n",
    "plt.show()\n"
   ]
  },
  {
   "cell_type": "markdown",
   "metadata": {},
   "source": [
    "# learning curve"
   ]
  },
  {
   "cell_type": "markdown",
   "metadata": {},
   "source": [
    "The learning curve model is used most commonly in organizational or industrial management to improve output by way of improving the performance of the human workforce. Simple can say Learning Curve used to optimize the cast function."
   ]
  },
  {
   "cell_type": "code",
   "execution_count": 63,
   "metadata": {},
   "outputs": [],
   "source": [
    "import numpy as np\n",
    "import matplotlib.pyplot as plt\n",
    "from sklearn.model_selection import learning_curve\n",
    "from sklearn.model_selection import ShuffleSplit"
   ]
  },
  {
   "cell_type": "code",
   "execution_count": 64,
   "metadata": {},
   "outputs": [],
   "source": [
    "def plot_learning_curve(estimator, title, X, y, ylim=(0, 1), cv=None, n_jobs=-1, train_sizes=np.linspace(.1, 1.0, 5)):\n",
    "    plt.figure()\n",
    "    plt.title(title)\n",
    "    if ylim is not None:\n",
    "        plt.ylim(*ylim)\n",
    "    plt.xlabel(\"Training examples\")\n",
    "    plt.ylabel(\"Score\")\n",
    "    train_sizes, train_scores, test_scores = learning_curve(\n",
    "        estimator, X, y, cv=cv, n_jobs=n_jobs, train_sizes=train_sizes)\n",
    "    train_scores_mean = np.mean(train_scores, axis=1)\n",
    "    train_scores_std = np.std(train_scores, axis=1)\n",
    "    test_scores_mean = np.mean(test_scores, axis=1)\n",
    "    test_scores_std = np.std(test_scores, axis=1)\n",
    "    plt.grid()\n",
    "\n",
    "    plt.fill_between(train_sizes, train_scores_mean - train_scores_std,\n",
    "                     train_scores_mean + train_scores_std, alpha=0.1,\n",
    "                     color=\"r\")\n",
    "    plt.fill_between(train_sizes, test_scores_mean - test_scores_std,\n",
    "                     test_scores_mean + test_scores_std, alpha=0.1, color=\"g\")\n",
    "#     plt.subplot(2, 2,n)\n",
    "    plt.plot(train_sizes, train_scores_mean, 'o-', color=\"r\",\n",
    "             label=\"Training score\")\n",
    "    plt.plot(train_sizes, test_scores_mean, 'o-', color=\"g\",\n",
    "             label=\"Cross-validation score\")\n",
    "\n",
    "    plt.legend(loc=\"best\")\n",
    "    return plt"
   ]
  },
  {
   "cell_type": "code",
   "execution_count": 65,
   "metadata": {},
   "outputs": [
    {
     "data": {
      "image/png": "[encoded data removed]",
      "text/plain": [
       "<Figure size 432x288 with 1 Axes>"
      ]
     },
     "metadata": {
      "needs_background": "light"
     },
     "output_type": "display_data"
    },
    {
     "data": {
      "image/png": "[encoded data removed]",
      "text/plain": [
       "<Figure size 432x288 with 1 Axes>"
      ]
     },
     "metadata": {
      "needs_background": "light"
     },
     "output_type": "display_data"
    },
    {
     "data": {
      "image/png": "[encoded data removed]",
      "text/plain": [
       "<Figure size 432x288 with 1 Axes>"
      ]
     },
     "metadata": {
      "needs_background": "light"
     },
     "output_type": "display_data"
    },
    {
     "data": {
      "image/png": "[encoded data removed]",
      "text/plain": [
       "<Figure size 432x288 with 1 Axes>"
      ]
     },
     "metadata": {
      "needs_background": "light"
     },
     "output_type": "display_data"
    }
   ],
   "source": [
    "X, y = vectorized_commetns, y_train\n",
    "\n",
    "title = \"Learning Curves (RandomForestClassifier)\"\n",
    "# Cross validation with 100 iterations to get smoother mean test and train\n",
    "# score curves, each time with 20% data randomly selected as a validation set.\n",
    "cv = ShuffleSplit(n_splits=10, test_size=0.2, random_state=42)\n",
    "estimator = RandomForestClassifier()\n",
    "plot_learning_curve(estimator, title, X, y, ylim=(0, 1),cv=cv, n_jobs=-1)\n",
    "\n",
    "title = r\"Learning Curves (SVM implemented with SGDClassifier)\"\n",
    "# SGDClassifier:\n",
    "cv = ShuffleSplit(n_splits=10, test_size=0.2, random_state=42)\n",
    "estimator2 = SGDClassifier()\n",
    "plot_learning_curve(estimator2, title, X, y,   ylim=(0, 1), cv=cv, n_jobs=-1)\n",
    "\n",
    "title = r\"Learning Curves (LogisticRegression)\"\n",
    "# LogisticRegression:\n",
    "cv = ShuffleSplit(n_splits=10, test_size=0.2, random_state=42)\n",
    "estimator3 = LogisticRegression()\n",
    "plot_learning_curve(estimator3, title, X, y,   ylim=(0, 1), cv=cv, n_jobs=-1)\n",
    "\n",
    "title = r\"Learning Curves (SVM)\"\n",
    "# LogisticRegression:\n",
    "cv = ShuffleSplit(n_splits=10, test_size=0.2, random_state=42)\n",
    "estimator4 = SVC()\n",
    "plot_learning_curve(estimator4, title, X, y,   ylim=(0, 1), cv=cv, n_jobs=-1)\n",
    "\n",
    "plt.show()"
   ]
  },
  {
   "cell_type": "markdown",
   "metadata": {},
   "source": [
    "# conclusion "
   ]
  },
  {
   "cell_type": "markdown",
   "metadata": {},
   "source": [
    "As a conclusion, we found that this Dataset work properly with SVM classifier and work with Random Forest unlikely, and the results shows with different clear Curves, which is plotted above 😁"
   ]
  },
  {
   "cell_type": "markdown",
   "metadata": {},
   "source": [
    "By: Asiah \"Etman\""
   ]
  }
 ],
 "metadata": {
  "kernelspec": {
   "display_name": "Python 3",
   "language": "python",
   "name": "python3"
  },
  "language_info": {
   "codemirror_mode": {
    "name": "ipython",
    "version": 3
   },
   "file_extension": ".py",
   "mimetype": "text/x-python",
   "name": "python",
   "nbconvert_exporter": "python",
   "pygments_lexer": "ipython3",
   "version": "3.7.3"
  }
 },
 "nbformat": 4,
 "nbformat_minor": 2
}
